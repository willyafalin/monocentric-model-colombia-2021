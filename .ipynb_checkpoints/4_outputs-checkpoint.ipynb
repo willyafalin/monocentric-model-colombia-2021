{
 "cells": [
  {
   "cell_type": "markdown",
   "id": "7b739f14-0391-4b80-b66c-e6d327f804d9",
   "metadata": {},
   "source": [
    "1. Regressions \n",
    "- graphiques\n",
    "- cartes \n",
    "\n",
    "2. Statistiques descriptives \n",
    "- graphiques\n",
    "- cartes \n",
    "\n",
    "3. Tables de correlations, Balance tests"
   ]
  },
  {
   "cell_type": "code",
   "execution_count": 2,
   "id": "a8b43afa-5b23-4386-a293-87bf56c252ba",
   "metadata": {},
   "outputs": [
    {
     "name": "stdout",
     "output_type": "stream",
     "text": [
      "/home/onyxia/work/monocentric-model-colombia-2021\n"
     ]
    }
   ],
   "source": [
    "%cd /home/onyxia/work/monocentric-model-colombia-2021\n",
    "import pandas as pd\n",
    "\n",
    "total_dataset = pd.read_stata(\"data_base_enrichie_non_clean.dta\") \n",
    "\n"
   ]
  },
  {
   "cell_type": "markdown",
   "id": "4a4dcbe2-8781-4bee-bcd5-ef36936146fa",
   "metadata": {},
   "source": [
    "La méthode d'echantillonage des bases du GEIH2021 \n",
    "\n",
    "Le sampling se fait sur la population qui fait partie de la workforce (voir [DANE (2023)](https://microdatos.dane.gov.co/index.php/catalog/701/study-description#metadata-sampling) : \"Weighting\n",
    "Se diseñó una muestra para obtener una precisión esperada medida en términos del error de muestreo menor o igual a 5% con un nivel de confiabilidad del 95%, para los principales indicadores de fuerza laboral nacionales.\")\n",
    "\n",
    "On connait les données annuelles de la population formant la main d'oeuvre en Colombie ([World Bank (2023)](https://data.worldbank.org/indicator/SL.TLF.TOTL.IN?locations=CO)), d'environ 25 millions de personnes en 2021."
   ]
  },
  {
   "cell_type": "code",
   "execution_count": 6,
   "id": "a9481dcf-efcd-4760-9019-84c4804f03f1",
   "metadata": {},
   "outputs": [
    {
     "data": {
      "text/html": [
       "<div>\n",
       "<style scoped>\n",
       "    .dataframe tbody tr th:only-of-type {\n",
       "        vertical-align: middle;\n",
       "    }\n",
       "\n",
       "    .dataframe tbody tr th {\n",
       "        vertical-align: top;\n",
       "    }\n",
       "\n",
       "    .dataframe thead th {\n",
       "        text-align: right;\n",
       "    }\n",
       "</style>\n",
       "<table border=\"1\" class=\"dataframe\">\n",
       "  <thead>\n",
       "    <tr style=\"text-align: right;\">\n",
       "      <th>col_0</th>\n",
       "      <th>count</th>\n",
       "    </tr>\n",
       "    <tr>\n",
       "      <th>row_0</th>\n",
       "      <th></th>\n",
       "    </tr>\n",
       "  </thead>\n",
       "  <tbody>\n",
       "    <tr>\n",
       "      <th>True</th>\n",
       "      <td>26630</td>\n",
       "    </tr>\n",
       "  </tbody>\n",
       "</table>\n",
       "</div>"
      ],
      "text/plain": [
       "col_0  count\n",
       "row_0       \n",
       "True   26630"
      ]
     },
     "execution_count": 6,
     "metadata": {},
     "output_type": "execute_result"
    }
   ],
   "source": [
    "pd.crosstab(total_dataset['fex_c_2011'] == total_dataset['fex_c_2011_y'],columns=\"count\") #memes variables, on peut utiliser l'un ou l'autre interchangeablement, pour les poids d'echantillonage"
   ]
  },
  {
   "cell_type": "code",
   "execution_count": 7,
   "id": "27e660e2-b66f-43f9-9b5c-cb7dfd56a574",
   "metadata": {},
   "outputs": [
    {
     "data": {
      "text/plain": [
       "23212041.07495462"
      ]
     },
     "execution_count": 7,
     "metadata": {},
     "output_type": "execute_result"
    }
   ],
   "source": [
    "total_dataset['fex_c_2011'].sum() #on trouve les memes ordres de grandeurs. Ne pas oublier que notre base est mensuelle et que le workforce est saisonnier et varie sur l'annee entiere."
   ]
  },
  {
   "cell_type": "code",
   "execution_count": null,
   "id": "384109bc-58ce-425d-8373-d3e64145dac5",
   "metadata": {},
   "outputs": [],
   "source": []
  },
  {
   "cell_type": "code",
   "execution_count": null,
   "id": "22496104-15b9-4c6d-8ba0-bf8dfd81e149",
   "metadata": {},
   "outputs": [],
   "source": []
  },
  {
   "cell_type": "code",
   "execution_count": null,
   "id": "ed6be6d5-4efa-429c-8fa0-20e0116b0a87",
   "metadata": {},
   "outputs": [],
   "source": []
  },
  {
   "cell_type": "code",
   "execution_count": null,
   "id": "31a6d664-9936-4874-8cee-3654ad6960d9",
   "metadata": {},
   "outputs": [],
   "source": []
  },
  {
   "cell_type": "markdown",
   "id": "59b2d38c-8b67-405c-a41f-07cfb91b56a5",
   "metadata": {},
   "source": [
    "Sources de ce Notebook : \n",
    "\n",
    "[World Bank (2023)](https://data.worldbank.org/indicator/SL.TLF.TOTL.IN?locations=CO)"
   ]
  }
 ],
 "metadata": {
  "kernelspec": {
   "display_name": "Python 3 (ipykernel)",
   "language": "python",
   "name": "python3"
  },
  "language_info": {
   "codemirror_mode": {
    "name": "ipython",
    "version": 3
   },
   "file_extension": ".py",
   "mimetype": "text/x-python",
   "name": "python",
   "nbconvert_exporter": "python",
   "pygments_lexer": "ipython3",
   "version": "3.10.13"
  }
 },
 "nbformat": 4,
 "nbformat_minor": 5
}
